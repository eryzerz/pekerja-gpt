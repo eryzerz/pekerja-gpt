{
 "cells": [
  {
   "cell_type": "code",
   "execution_count": 17,
   "metadata": {},
   "outputs": [],
   "source": [
    "# attach to the same event-loop\n",
    "import nest_asyncio\n",
    "\n",
    "nest_asyncio.apply()"
   ]
  },
  {
   "cell_type": "code",
   "execution_count": 18,
   "metadata": {},
   "outputs": [],
   "source": [
    "from llama_index.core import VectorStoreIndex, SimpleDirectoryReader, ServiceContext, Settings\n",
    "\n",
    "import pandas as pd"
   ]
  },
  {
   "cell_type": "code",
   "execution_count": 22,
   "metadata": {},
   "outputs": [],
   "source": [
    "import streamlit as st\n",
    "from llama_index.core.postprocessor import MetadataReplacementPostProcessor\n",
    "from llama_index.core.response_synthesizers import Refine, get_response_synthesizer\n",
    "from llama_index.core.prompts import PromptTemplate\n",
    "from llama_index.finetuning import EmbeddingAdapterFinetuneEngine\n",
    "from llama_index.core.evaluation import EmbeddingQAFinetuneDataset\n",
    "from llama_index.core.embeddings import resolve_embed_model\n",
    "from llama_index.embeddings.adapter.utils import TwoLayerNN\n",
    "from llama_index.llms.anthropic import Anthropic\n",
    "from pinecone import Pinecone\n",
    "from llama_index.vector_stores.pinecone import PineconeVectorStore\n",
    "from llama_index.embeddings.huggingface import HuggingFaceEmbedding\n",
    "from llama_index.postprocessor.cohere_rerank import CohereRerank"
   ]
  },
  {
   "cell_type": "markdown",
   "metadata": {},
   "source": [
    "# 1. Enhanced Solution\n",
    "In this solution, I am using GPT 3.5 to fine-tune embedding adapter on top of BAAI/bge-m3. The reason I'm using BAAI/bge-m3 as embedding is because it is multi-language, so it already exposed by Bahasa Indonesia on pre-training. To enhance its retrieval capability, I decided to fine-tune an adapter on top of embeddings produced by BAAI/bge-m3 using 2-layer Convolution Neural Network (CNN)."
   ]
  },
  {
   "cell_type": "markdown",
   "metadata": {},
   "source": [
    "## 1.1 Initializing Index"
   ]
  },
  {
   "cell_type": "code",
   "execution_count": 20,
   "metadata": {},
   "outputs": [],
   "source": [
    "llm = Anthropic(model=\"claude-3-sonnet-20240229\", api_key=st.secrets.anthropic.api_key, max_tokens=4096, temperature=0)\n",
    "dataset = EmbeddingQAFinetuneDataset.from_json(\"uu13_dataset.json\")\n",
    "base_embed_model = HuggingFaceEmbedding(model_name=\"BAAI/bge-m3\")\n",
    "adapter_model = TwoLayerNN(\n",
    "    1024,\n",
    "    8194,\n",
    "    1024,\n",
    "    bias=True,\n",
    "    add_residual=True,\n",
    ")\n",
    "\n",
    "finetune_engine = EmbeddingAdapterFinetuneEngine(\n",
    "    dataset,\n",
    "    base_embed_model,\n",
    "    model_output_path=\"model5_output_test\",\n",
    "    model_checkpoint_path=\"model5_ck\",\n",
    "    adapter_model=adapter_model,\n",
    "    epochs=5,\n",
    "    verbose=True,\n",
    "    dim=1024\n",
    ")\n",
    "\n",
    "embed_model = finetune_engine.get_finetuned_model(\n",
    "    adapter_cls=TwoLayerNN\n",
    ")\n",
    "Settings.llm = llm\n",
    "Settings.embed_model = embed_model\n",
    "\n",
    "pc = Pinecone(api_key=st.secrets.pinecone.api_key)\n",
    "pc_index = pc.Index(\"uu13\")\n",
    "\n",
    "vector_store = PineconeVectorStore(\n",
    "    pinecone_index=pc_index\n",
    ")\n",
    "index = VectorStoreIndex.from_vector_store(vector_store=vector_store)"
   ]
  },
  {
   "cell_type": "markdown",
   "metadata": {},
   "source": [
    "## 1.2 Custom Prompts\n",
    "Also, in this solution I add a custom prompt to enhance the QA and answer refinement process. Notice that I'm adding `MetadataReplacementPostProcessor`on query engine's node processor, that is because upon building the dataset for the document I was using Sentence Window Retrieval technique. It's being used to enhance the AI capability to learn about the context, because it won't only retrieve the immediate matched index, but also the surrounding indexes, I prefer to include 8 indexes before and after the matched index."
   ]
  },
  {
   "cell_type": "code",
   "execution_count": 23,
   "metadata": {},
   "outputs": [],
   "source": [
    "qa_prompt_tmpl_str = (\n",
    "    \"Anda adalah ahli hukum ketenagakerjaan Indonesia, dan anda bagian dari kelas pekerja.\\n\"\n",
    "    \"Di bawah ini adalah konteks:\"\n",
    "    \"---------------------\\n\"\n",
    "    \"{context_str}\\n\"\n",
    "    \"---------------------\\n\"\n",
    "    \"Jawablah berdasarkan konteks. Jika tidak tahu, jangan mengarang atau improvisasi, jawab saja 'Maaf, belum bisa dijawab. Silahkan cek peraturan.go.id, hukumonline.com, atau gajimu.com'\\n\"\n",
    "    \"Perhatikan kriteria berikut untuk memberikan jawaban berdasarkan konteks di atas:\\n\"\n",
    "    \"1. Gunakan perspektif pekerja.\\n\"\n",
    "    \"2. Perhatikan pertanyaan dengan teliti, apabila dalam pertanyaan tidak ada kaitannya dengan kelalaian pekerja, jangan berasumsi bahwa dasar dari pertanyaan karena adanya kelalaian dari pekerja.\\n\"\n",
    "    \"3. Perhatikan dengan teliti bahwa istilah/terminologi berikut memiliki makna yang berbeda: upah, upah minimum, upah kerja lembur, uang pesangon, uang penghargaan masa kerja, dan uang penggantian hak.\\n\"\n",
    "    \"4. Perhatikan dengan teliti setiap istilah/terminologi, jangan sampai tertukar!\\n\"\n",
    "    \"5. Perhatikan dengan teliti, apabila terdapat pernyataan matematis seperti: lebih dari, kurang dari, lebih tetapi kurang dari, atau sejenisnya.\\n\"\n",
    "    \"6. Tidak perlu menambahkan jawaban yang tidak sesuai dengan pertanyaan. Contoh, apabila ditanya mengenai pesangon, tidak perlu menambahkan jawaban mengenai upah penggantian hak.\\n\"\n",
    "    \"7. Jangan mengawali jawaban dengan, 'Berdasarkan konteks yang diberikan' atau sejenisnya.\\n\"\n",
    "    \"Perhatikan dan pertimbangkan seluruh kriteria dengan baik, karena akan diujikan nanti.\\n\"\n",
    "    \"Apabila anda dapat memenuhi kriteria-kriteria tersebut dan menghasilkan jawaban dengan baik, maka anda akan memperoleh hadiah milyaran rupiah.\\n\"\n",
    "    \"Jawablah pertanyaan di bawah dengan teliti, karena anda akan memperoleh hadiah jutaan rupiah apabila menjawab dengan tepat.\\n\"\n",
    "    \"Pertanyaan: {query_str}\\n\"\n",
    "    \"Jawaban: \"\n",
    ")\n",
    "qa_prompt_tmpl = PromptTemplate(qa_prompt_tmpl_str)\n",
    "\n",
    "refine_prompt_tmpl_str = (\n",
    "    \"Pertanyaan asli sebagai berikut: {query_str}\\n\"\n",
    "    \"Jawaban yang ditemukan sebagai berikut: {existing_answer}\\n\"\n",
    "    \"Anda memiliki kesempatan untuk memperbaiki jawaban.\\n\"\n",
    "    \"Apabila dibutuhkan, perbaikilah berdasarkan konteks di bawah.\\n\"\n",
    "    \"---------------------\\n\"\n",
    "    \"{context_msg}\\n\"\n",
    "    \"---------------------\\n\"\n",
    "    \"Dengan konteks baru tersebut, ubahlah jawaban awal agar lebih sesuai untuk menjawaban pertanyaan.\\n\"\n",
    "    \"Perhatikan kriteria berikut untuk melakukan perbaikan berdasarkan konteks di atas:\\n\"\n",
    "    \"1. Gunakan perspektif pekerja.\\n\"\n",
    "    \"2. Perhatikan pertanyaan dengan teliti, apabila dalam pertanyaan tidak ada kaitannya dengan kelalaian pekerja, jangan berasumsi bahwa dasar dari pertanyaan karena adanya kelalaian dari pekerja.\\n\"\n",
    "    \"3. Perhatikan dengan teliti bahwa istilah/terminologi berikut memiliki makna yang berbeda: upah, upah minimum, upah kerja lembur, uang pesangon, uang penghargaan masa kerja, dan uang penggantian hak.\\n\"\n",
    "    \"4. Perhatikan dengan teliti setiap istilah/terminologi, jangan sampai tertukar!\\n\"\n",
    "    \"5. Perhatikan dengan teliti, apabila terdapat pernyataan matematis seperti: lebih dari, kurang dari, lebih tetapi kurang dari, atau sejenisnya.\\n\"\n",
    "    \"6. Tidak perlu menambahkan jawaban yang tidak sesuai dengan pertanyaan. Contoh, apabila ditanya mengenai pesangon, tidak perlu menambahkan jawaban mengenai upah penggantian hak.\\n\"\n",
    "    \"7. Tidak perlu menyisipkan alasan dari perbaikan jawaban, cukup tampilkan jawaban terakhir.\\n\"\n",
    "    \"Perhatikan dan pertimbangkan seluruh kriteria dengan baik, karena akan diujikan nanti.\\n\"\n",
    "    \"Apabila anda dapat memenuhi kriteria-kriteria tersebut dan menghasilkan jawaban baru yang lebih baik, maka anda akan memperoleh hadiah milyaran rupiah.\\n\"\n",
    "    \"Jawaban Baru: \"\n",
    ")\n",
    "refine_prompt_tmpl = PromptTemplate(refine_prompt_tmpl_str)\n",
    "\n",
    "cohere_rerank = CohereRerank(api_key=st.secrets.cohere.api_key, top_n=3)\n",
    "response_synthesizer = get_response_synthesizer(response_mode=\"refine\")\n",
    "query_engine = index.as_query_engine(\n",
    "    similarity_top_k=8,\n",
    "    node_postprocessors=[\n",
    "        MetadataReplacementPostProcessor(target_metadata_key=\"window\"),\n",
    "        cohere_rerank\n",
    "    ],\n",
    "    response_synthesizer=response_synthesizer,\n",
    ")\n",
    "query_engine.update_prompts({\n",
    "    \"response_synthesizer:text_qa_template\": qa_prompt_tmpl,\n",
    "    \"response_synthesizer:refine_template\": refine_prompt_tmpl\n",
    "})"
   ]
  },
  {
   "cell_type": "markdown",
   "metadata": {},
   "source": [
    "## 1.3 Generate RAGAS Dataset"
   ]
  },
  {
   "cell_type": "code",
   "execution_count": 24,
   "metadata": {},
   "outputs": [],
   "source": [
    "from ragas.metrics import (\n",
    "    faithfulness,\n",
    "    answer_relevancy,\n",
    "    context_precision,\n",
    "    context_recall\n",
    ")\n",
    "from datasets import Dataset\n",
    "from tqdm.auto import tqdm\n",
    "import pandas as pd\n",
    "\n",
    "metrics = [\n",
    "    faithfulness,\n",
    "    answer_relevancy,\n",
    "    context_precision,\n",
    "    context_recall\n",
    "]"
   ]
  },
  {
   "cell_type": "code",
   "execution_count": 26,
   "metadata": {},
   "outputs": [],
   "source": [
    "questions = [\n",
    "              \"Apakah pekerja berhak mendapatkan pelatihan?\", \n",
    "              \"Dalam pekerjaan dengan waktu tertentu, apabila pemberi kerja memutuskan hubungan kerja sebelum habisnya jangka waktu yang ditetapkan, apa kewajiban yang harus dipenuhi?\",\n",
    "              \"Saya membutuhkan pekerja muda berusia 14 tahun untuk mengurus anak saya, kemungkinan akan dipekerjakan selama 12 jam per hari, dengan upah di atas upah minimum. Apakah yang saya lakukan melanggar peraturan?\",\n",
    "              \"Sanksi atau denda apa yang dapat dikenakan pada pengusaha apabila memberikan perintah kepada saya untuk bekerja di jam 12 malam hingga 5 pagi, sedangkan saya sedang hamil?\",\n",
    "              \"Dalam 1 minggu ini, saya telah melakukan kerja lembur setiap hari, jika ditotal saya telah lembur sebanyak 21 jam pada minggu ini. Pengusaha membayar saya dengan pizza, apakah itu diperbolehkan?\",\n",
    "              \"Sanksi apa yang dapat dikenakan pada pengusaha yang mempekerjakan pekerjaanya pada hari libur resmi tanpa membayar upah kerja lembur?\",\n",
    "              \"Apabila pekerja tidak bekerja karena menikahkan anaknya, apakah tetap berhak mendapatkan upah?\",\n",
    "              \"Apabila perusahaan pailit, apakah saya tetap berhak mendapatkan upah dan hak-hak jaminan sosial lainnya?\",\n",
    "              \"Dalam hubungan industrial, apa fungsi dari pengusaha?\",\n",
    "              \"Apakah serikat pekerja merupakan unsur yang termasuk dalam lembaga kerja sama bipartit?\",\n",
    "              \"Sanksi apa yang akan dikenakan pada pengusaha yang mengganti pekerja mogok dengan pekerja dari luar?\",\n",
    "              \"Apabila saya diberhentikan setelah bekerja selama 3 tahun 9 bulan, berapa uang pesangon yang berhak saya dapatkan?\"\n",
    "            ]\n",
    "ground_truths = [\n",
    "                  \"Setiap tenaga kerja berhak untuk mengembangkan kompetensi kerja sesuai dengan bakat, minat, dan kemampuannya melalui pelatihan kerja. Pengusaha juga memiliki tanggung jawab atas pengembangan kompetensi tenaga kerjanya.\",\n",
    "                  \"Apabila pemutusan hubungan kerja dilakukan selain karena pekerja meninggal dunia, maka pemberi kerja wajib membayar ganti rugi sebesar upah pekerja/buruh sampai batas waktu berakhirnya jangka waktu perjanjian kerja.\",\n",
    "                  \"Meski anda memberi upah di atas upah minimum, mempekerjakan anak-anak merupakan hal yang dilarang. Ada pengecualian apabila pekerja muda tersebut berusia di antara 13 sampai dengan 15 tahun, untuk dipekerjakan secara ringan tanpa mengganggu perkembangan dan kesehatan fisik, mental, dan sosial. Mempekerjakan 12 jam per hari merupakan pelanggaran, karena hanya diperbolehkan untuk bekerja maksimum 3 jam.\",\n",
    "                  \"Pengusaha dilarang untuk memperkjakan perempuan yang sedang hamil antara pukul 23:00 sampai dengan pukul 07:00. Apabila dilanggar, sesuai dengan Pasal 187 ayat 1 pada Undang-undang Nomor 13 Tahun 2003 maka pengusaha dapat dikenakan sanksi pidana kurungan paling singkat 1 (satu) bulan dan paling lama 12 (dua belas) bulan dan/atau denda paling sedikit Rp 10.000.000,00 (sepuluh juta rupiah) dan paling banyak Rp 100.000.000,00 (seratus juta rupiah).\",\n",
    "                  \"Apabila hanya diberi pizza, tanpa upah lembur, maka itu telah melanggar peraturan. sesuai dengan Pasal 187 ayat 1 pada Undang-undang Nomor 13 Tahun 2003 pengusaha dapat dikenakan sanksi pidana kurungan paling singkat 1 (satu) bulan dan paling lama 12 (dua belas) bulan dan/atau denda paling sedikit Rp 10.000.000,00 (sepuluh juta rupiah) dan paling banyak Rp 100.000.000,00 (seratus juta rupiah).\",\n",
    "                  \"Sesuai dengan Pasal 187 ayat 1 pada Undang-undang Nomor 13 Tahun 2003, pengusaha dapat dikenakan sanksi pidana kurungan paling singkat 1 (satu) bulan dan paling lama 12 (dua belas) bulan dan/atau denda paling sedikit Rp 10.000.000,00 (sepuluh juta rupiah) dan paling banyak Rp 100.000.000,00 (seratus juta rupiah).\",\n",
    "                  \"Pekerja yang tidak bekerja disebabkan sedang menikahkan anaknya berhak diupah sesuai pasal 93 ayat 2. Besarannya 2 hari upah, sesuai yang diatur pada pasal 93 ayat 4.\",\n",
    "                  \"Bagi perusahaan yang pailit upah dan hak-hak lainnya yang dimiliki pekerja/buruh akan menjadi utang yang didahulukan pembayarannya oleh pengusaha.\",\n",
    "                  \"Pengusaha mempunyai fungsi menciptakan kemitraan, mengembangkan usaha, memperluas lapangan kerja, dan memberikan kesejahteraan pekerja secara terbuka, demokratis, dan berkeadilan.\",\n",
    "                  \"Tidak. Unsur serikat pekerja ada di dalam lembaga kerja sama tripartit, bersama dengan unsur pemerintah dan organisasi pengusaha, sesuai dengan pasal 107 ayat 3. Pada lembaga kerja sama bipartit terdiri dari unsur pengusaha dan unsur pekerja/buruh yang ditunjuk oleh pekerja/buruh secara demokratis untuk mewakili kepentingan pekerja/buruh di perusahaan yang bersangkutan, sesuai dengan pasal 106 ayat 3.\",\n",
    "                  \"Berdasarkan pasal 144 ayat 1, pengusaha dilarang mengganti pekerja mogok denga pekerja dari luar perusahaan. Sesuai dengan Pasal 187 ayat 1 pada Undang-undang Nomor 13 Tahun 2003, pengusaha dapat dikenakan sanksi pidana kurungan paling singkat 1 (satu) bulan dan paling lama 12 (dua belas) bulan dan/atau denda paling sedikit Rp 10.000.000,00 (sepuluh juta rupiah) dan paling banyak Rp 100.000.000,00 (seratus juta rupiah).\",\n",
    "                  \"Berdasarkan pasal 156 ayat 2, pekerja yang telah diberhentikan setelah bekerja selama 3 tahun atau lebih tetapi kurang dari 4 tahun, berhak mendapatkan uang pesangon sebesar 4 bulan upah.\"\n",
    "                ]"
   ]
  },
  {
   "cell_type": "code",
   "execution_count": 27,
   "metadata": {},
   "outputs": [
    {
     "data": {
      "application/vnd.jupyter.widget-view+json": {
       "model_id": "8fb9ffeea3594acdaa48569781eeb622",
       "version_major": 2,
       "version_minor": 0
      },
      "text/plain": [
       "  0%|          | 0/12 [00:00<?, ?it/s]"
      ]
     },
     "metadata": {},
     "output_type": "display_data"
    },
    {
     "name": "stderr",
     "output_type": "stream",
     "text": [
      "huggingface/tokenizers: The current process just got forked, after parallelism has already been used. Disabling parallelism to avoid deadlocks...\n",
      "To disable this warning, you can either:\n",
      "\t- Avoid using `tokenizers` before the fork if possible\n",
      "\t- Explicitly set the environment variable TOKENIZERS_PARALLELISM=(true | false)\n",
      "/Users/eryz/Documents/projects/TA/pekerja-gpt/.venv/lib/python3.10/site-packages/llama_index/core/program/utils.py:58: UserWarning: Failed to use `OpenAIPydanticProgram`. Please ensure that is installed by running `pip install llama-index-program-openai`.\n",
      "  warnings.warn(\n"
     ]
    },
    {
     "data": {
      "text/html": [
       "<div>\n",
       "<style scoped>\n",
       "    .dataframe tbody tr th:only-of-type {\n",
       "        vertical-align: middle;\n",
       "    }\n",
       "\n",
       "    .dataframe tbody tr th {\n",
       "        vertical-align: top;\n",
       "    }\n",
       "\n",
       "    .dataframe thead th {\n",
       "        text-align: right;\n",
       "    }\n",
       "</style>\n",
       "<table border=\"1\" class=\"dataframe\">\n",
       "  <thead>\n",
       "    <tr style=\"text-align: right;\">\n",
       "      <th></th>\n",
       "      <th>question</th>\n",
       "      <th>answer</th>\n",
       "      <th>contexts</th>\n",
       "      <th>ground_truth</th>\n",
       "    </tr>\n",
       "  </thead>\n",
       "  <tbody>\n",
       "    <tr>\n",
       "      <th>0</th>\n",
       "      <td>Apakah pekerja berhak mendapatkan pelatihan?</td>\n",
       "      <td>Ya, setiap pekerja berhak untuk memperoleh dan...</td>\n",
       "      <td>[(1) Tenaga kerja berhak memperoleh pengakuan ...</td>\n",
       "      <td>Setiap tenaga kerja berhak untuk mengembangkan...</td>\n",
       "    </tr>\n",
       "    <tr>\n",
       "      <th>1</th>\n",
       "      <td>Dalam pekerjaan dengan waktu tertentu, apabila...</td>\n",
       "      <td>Jika pemberi kerja memutuskan hubungan kerja s...</td>\n",
       "      <td>[C. Perjanjian Kerja untuk Suatu Jangka Waktu ...</td>\n",
       "      <td>Apabila pemutusan hubungan kerja dilakukan sel...</td>\n",
       "    </tr>\n",
       "    <tr>\n",
       "      <th>2</th>\n",
       "      <td>Saya membutuhkan pekerja muda berusia 14 tahun...</td>\n",
       "      <td>Tidak, mempekerjakan anak berusia 14 tahun sel...</td>\n",
       "      <td>[e. memberlakukan keselamatan dan kesehatan ke...</td>\n",
       "      <td>Meski anda memberi upah di atas upah minimum, ...</td>\n",
       "    </tr>\n",
       "    <tr>\n",
       "      <th>3</th>\n",
       "      <td>Sanksi atau denda apa yang dapat dikenakan pad...</td>\n",
       "      <td>Berdasarkan Pasal 187 ayat (1), pengusaha yang...</td>\n",
       "      <td>[memberikan kesempatan kepada para pekerja unt...</td>\n",
       "      <td>Pengusaha dilarang untuk memperkjakan perempua...</td>\n",
       "    </tr>\n",
       "    <tr>\n",
       "      <th>4</th>\n",
       "      <td>Dalam 1 minggu ini, saya telah melakukan kerja...</td>\n",
       "      <td>Tidak, pembayaran upah dengan pizza saja tidak...</td>\n",
       "      <td>[e. memberlakukan keselamatan dan kesehatan ke...</td>\n",
       "      <td>Apabila hanya diberi pizza, tanpa upah lembur,...</td>\n",
       "    </tr>\n",
       "  </tbody>\n",
       "</table>\n",
       "</div>"
      ],
      "text/plain": [
       "                                            question  \\\n",
       "0       Apakah pekerja berhak mendapatkan pelatihan?   \n",
       "1  Dalam pekerjaan dengan waktu tertentu, apabila...   \n",
       "2  Saya membutuhkan pekerja muda berusia 14 tahun...   \n",
       "3  Sanksi atau denda apa yang dapat dikenakan pad...   \n",
       "4  Dalam 1 minggu ini, saya telah melakukan kerja...   \n",
       "\n",
       "                                              answer  \\\n",
       "0  Ya, setiap pekerja berhak untuk memperoleh dan...   \n",
       "1  Jika pemberi kerja memutuskan hubungan kerja s...   \n",
       "2  Tidak, mempekerjakan anak berusia 14 tahun sel...   \n",
       "3  Berdasarkan Pasal 187 ayat (1), pengusaha yang...   \n",
       "4  Tidak, pembayaran upah dengan pizza saja tidak...   \n",
       "\n",
       "                                            contexts  \\\n",
       "0  [(1) Tenaga kerja berhak memperoleh pengakuan ...   \n",
       "1  [C. Perjanjian Kerja untuk Suatu Jangka Waktu ...   \n",
       "2  [e. memberlakukan keselamatan dan kesehatan ke...   \n",
       "3  [memberikan kesempatan kepada para pekerja unt...   \n",
       "4  [e. memberlakukan keselamatan dan kesehatan ke...   \n",
       "\n",
       "                                        ground_truth  \n",
       "0  Setiap tenaga kerja berhak untuk mengembangkan...  \n",
       "1  Apabila pemutusan hubungan kerja dilakukan sel...  \n",
       "2  Meski anda memberi upah di atas upah minimum, ...  \n",
       "3  Pengusaha dilarang untuk memperkjakan perempua...  \n",
       "4  Apabila hanya diberi pizza, tanpa upah lembur,...  "
      ]
     },
     "execution_count": 27,
     "metadata": {},
     "output_type": "execute_result"
    }
   ],
   "source": [
    "def generate_response(query_engine, question):\n",
    "    summarizer = Refine(refine_template=refine_prompt_tmpl, structured_answer_filtering=True)\n",
    "    \n",
    "    response = query_engine.query(question)\n",
    "    windows = [node.metadata[\"window\"] for node in response.source_nodes]\n",
    "    summarized_res = summarizer.get_response(question, windows)\n",
    "    return {\n",
    "        \"answer\": summarized_res,\n",
    "        \"contexts\": windows,\n",
    "    }\n",
    "\n",
    "\n",
    "def generate_ragas_dataset(query_engine, questions, ground_truths):\n",
    "    responses = [generate_response(query_engine, q) for q in tqdm(questions)]\n",
    "    \n",
    "    dataset_dict = {\n",
    "        \"question\": questions,\n",
    "        \"answer\": [response[\"answer\"] for response in responses],\n",
    "        \"contexts\": [response[\"contexts\"] for response in responses],\n",
    "        \"ground_truth\": ground_truths,\n",
    "    }\n",
    "    ds = Dataset.from_dict(dataset_dict)\n",
    "    return ds\n",
    "\n",
    "\n",
    "ragas_eval_dataset = generate_ragas_dataset(query_engine, questions, ground_truths)\n",
    "ragas_evals_df = pd.DataFrame(ragas_eval_dataset)\n",
    "ragas_evals_df.head()"
   ]
  },
  {
   "cell_type": "code",
   "execution_count": 28,
   "metadata": {},
   "outputs": [],
   "source": [
    "ragas_evals_df.to_csv(\"enhanced_solution.csv\")"
   ]
  },
  {
   "cell_type": "markdown",
   "metadata": {},
   "source": [
    "## 1.4 Evaluation Result"
   ]
  },
  {
   "cell_type": "code",
   "execution_count": 31,
   "metadata": {},
   "outputs": [
    {
     "data": {
      "application/vnd.jupyter.widget-view+json": {
       "model_id": "ea158fa39f33479a9c15f7ebaa3faf98",
       "version_major": 2,
       "version_minor": 0
      },
      "text/plain": [
       "Evaluating:   0%|          | 0/48 [00:00<?, ?it/s]"
      ]
     },
     "metadata": {},
     "output_type": "display_data"
    },
    {
     "name": "stderr",
     "output_type": "stream",
     "text": [
      "huggingface/tokenizers: The current process just got forked, after parallelism has already been used. Disabling parallelism to avoid deadlocks...\n",
      "To disable this warning, you can either:\n",
      "\t- Avoid using `tokenizers` before the fork if possible\n",
      "\t- Explicitly set the environment variable TOKENIZERS_PARALLELISM=(true | false)\n",
      "huggingface/tokenizers: The current process just got forked, after parallelism has already been used. Disabling parallelism to avoid deadlocks...\n",
      "To disable this warning, you can either:\n",
      "\t- Avoid using `tokenizers` before the fork if possible\n",
      "\t- Explicitly set the environment variable TOKENIZERS_PARALLELISM=(true | false)\n",
      "huggingface/tokenizers: The current process just got forked, after parallelism has already been used. Disabling parallelism to avoid deadlocks...\n",
      "To disable this warning, you can either:\n",
      "\t- Avoid using `tokenizers` before the fork if possible\n",
      "\t- Explicitly set the environment variable TOKENIZERS_PARALLELISM=(true | false)\n",
      "huggingface/tokenizers: The current process just got forked, after parallelism has already been used. Disabling parallelism to avoid deadlocks...\n",
      "To disable this warning, you can either:\n",
      "\t- Avoid using `tokenizers` before the fork if possible\n",
      "\t- Explicitly set the environment variable TOKENIZERS_PARALLELISM=(true | false)\n",
      "huggingface/tokenizers: The current process just got forked, after parallelism has already been used. Disabling parallelism to avoid deadlocks...\n",
      "To disable this warning, you can either:\n",
      "\t- Avoid using `tokenizers` before the fork if possible\n",
      "\t- Explicitly set the environment variable TOKENIZERS_PARALLELISM=(true | false)\n",
      "huggingface/tokenizers: The current process just got forked, after parallelism has already been used. Disabling parallelism to avoid deadlocks...\n",
      "To disable this warning, you can either:\n",
      "\t- Avoid using `tokenizers` before the fork if possible\n",
      "\t- Explicitly set the environment variable TOKENIZERS_PARALLELISM=(true | false)\n",
      "huggingface/tokenizers: The current process just got forked, after parallelism has already been used. Disabling parallelism to avoid deadlocks...\n",
      "To disable this warning, you can either:\n",
      "\t- Avoid using `tokenizers` before the fork if possible\n",
      "\t- Explicitly set the environment variable TOKENIZERS_PARALLELISM=(true | false)\n"
     ]
    }
   ],
   "source": [
    "from ragas import evaluate\n",
    "import os\n",
    "os.environ[\"OPENAI_API_KEY\"] = st.secrets.openai.api_key\n",
    "evaluation_result = evaluate(\n",
    "    dataset=ragas_eval_dataset,\n",
    "    metrics=metrics,\n",
    ")\n",
    "eval_scores_df = pd.DataFrame(evaluation_result.scores)"
   ]
  },
  {
   "cell_type": "code",
   "execution_count": 43,
   "metadata": {},
   "outputs": [
    {
     "data": {
      "text/html": [
       "<div>\n",
       "<style scoped>\n",
       "    .dataframe tbody tr th:only-of-type {\n",
       "        vertical-align: middle;\n",
       "    }\n",
       "\n",
       "    .dataframe tbody tr th {\n",
       "        vertical-align: top;\n",
       "    }\n",
       "\n",
       "    .dataframe thead th {\n",
       "        text-align: right;\n",
       "    }\n",
       "</style>\n",
       "<table border=\"1\" class=\"dataframe\">\n",
       "  <thead>\n",
       "    <tr style=\"text-align: right;\">\n",
       "      <th></th>\n",
       "      <th>faithfulness</th>\n",
       "      <th>answer_relevancy</th>\n",
       "      <th>context_precision</th>\n",
       "      <th>context_recall</th>\n",
       "    </tr>\n",
       "  </thead>\n",
       "  <tbody>\n",
       "    <tr>\n",
       "      <th>0</th>\n",
       "      <td>1.000000</td>\n",
       "      <td>0.899568</td>\n",
       "      <td>1.0000</td>\n",
       "      <td>1.000000</td>\n",
       "    </tr>\n",
       "    <tr>\n",
       "      <th>1</th>\n",
       "      <td>1.000000</td>\n",
       "      <td>0.849207</td>\n",
       "      <td>1.0000</td>\n",
       "      <td>1.000000</td>\n",
       "    </tr>\n",
       "    <tr>\n",
       "      <th>2</th>\n",
       "      <td>1.000000</td>\n",
       "      <td>0.920993</td>\n",
       "      <td>1.0000</td>\n",
       "      <td>0.666667</td>\n",
       "    </tr>\n",
       "    <tr>\n",
       "      <th>3</th>\n",
       "      <td>1.000000</td>\n",
       "      <td>0.789451</td>\n",
       "      <td>1.0000</td>\n",
       "      <td>1.000000</td>\n",
       "    </tr>\n",
       "    <tr>\n",
       "      <th>4</th>\n",
       "      <td>0.666667</td>\n",
       "      <td>0.880675</td>\n",
       "      <td>1.0000</td>\n",
       "      <td>1.000000</td>\n",
       "    </tr>\n",
       "    <tr>\n",
       "      <th>5</th>\n",
       "      <td>1.000000</td>\n",
       "      <td>0.977997</td>\n",
       "      <td>1.0000</td>\n",
       "      <td>1.000000</td>\n",
       "    </tr>\n",
       "    <tr>\n",
       "      <th>6</th>\n",
       "      <td>0.500000</td>\n",
       "      <td>0.957566</td>\n",
       "      <td>1.0000</td>\n",
       "      <td>1.000000</td>\n",
       "    </tr>\n",
       "    <tr>\n",
       "      <th>7</th>\n",
       "      <td>1.000000</td>\n",
       "      <td>0.861411</td>\n",
       "      <td>0.8875</td>\n",
       "      <td>1.000000</td>\n",
       "    </tr>\n",
       "    <tr>\n",
       "      <th>8</th>\n",
       "      <td>0.600000</td>\n",
       "      <td>0.975788</td>\n",
       "      <td>1.0000</td>\n",
       "      <td>1.000000</td>\n",
       "    </tr>\n",
       "    <tr>\n",
       "      <th>9</th>\n",
       "      <td>1.000000</td>\n",
       "      <td>0.925613</td>\n",
       "      <td>1.0000</td>\n",
       "      <td>0.500000</td>\n",
       "    </tr>\n",
       "    <tr>\n",
       "      <th>10</th>\n",
       "      <td>1.000000</td>\n",
       "      <td>0.948277</td>\n",
       "      <td>1.0000</td>\n",
       "      <td>1.000000</td>\n",
       "    </tr>\n",
       "    <tr>\n",
       "      <th>11</th>\n",
       "      <td>0.500000</td>\n",
       "      <td>0.938696</td>\n",
       "      <td>1.0000</td>\n",
       "      <td>1.000000</td>\n",
       "    </tr>\n",
       "  </tbody>\n",
       "</table>\n",
       "</div>"
      ],
      "text/plain": [
       "    faithfulness  answer_relevancy  context_precision  context_recall\n",
       "0       1.000000          0.899568             1.0000        1.000000\n",
       "1       1.000000          0.849207             1.0000        1.000000\n",
       "2       1.000000          0.920993             1.0000        0.666667\n",
       "3       1.000000          0.789451             1.0000        1.000000\n",
       "4       0.666667          0.880675             1.0000        1.000000\n",
       "5       1.000000          0.977997             1.0000        1.000000\n",
       "6       0.500000          0.957566             1.0000        1.000000\n",
       "7       1.000000          0.861411             0.8875        1.000000\n",
       "8       0.600000          0.975788             1.0000        1.000000\n",
       "9       1.000000          0.925613             1.0000        0.500000\n",
       "10      1.000000          0.948277             1.0000        1.000000\n",
       "11      0.500000          0.938696             1.0000        1.000000"
      ]
     },
     "execution_count": 43,
     "metadata": {},
     "output_type": "execute_result"
    }
   ],
   "source": [
    "eval_scores_df.head(12)"
   ]
  },
  {
   "cell_type": "code",
   "execution_count": 32,
   "metadata": {},
   "outputs": [
    {
     "name": "stdout",
     "output_type": "stream",
     "text": [
      "{'faithfulness': 0.9139, 'answer_relevancy': 0.8975, 'context_precision': 1.0000, 'context_recall': 0.9306}\n"
     ]
    }
   ],
   "source": [
    "print(evaluation_result)"
   ]
  },
  {
   "cell_type": "markdown",
   "metadata": {},
   "source": [
    "# 2. Base Solution\n",
    "In this solution, I am using GPT 3.5 and Ada as embedding model. I won't create a custom prompts and the retrieval process would using text splitter rather than an advanced technique such as sentence window retrieval. I expect the evaluation result would be less better than the previous solution."
   ]
  },
  {
   "cell_type": "markdown",
   "metadata": {},
   "source": [
    "## 2.1 Initializing Index"
   ]
  },
  {
   "cell_type": "code",
   "execution_count": 33,
   "metadata": {},
   "outputs": [],
   "source": [
    "from llama_index.llms.openai import OpenAI\n",
    "from llama_index.embeddings.openai import OpenAIEmbedding\n",
    "from llama_index.core.node_parser import SentenceSplitter\n",
    "import os\n",
    "files = [\"./uu_no_13_th_2003.pdf\", \"./uu_13_explained.pdf\"]\n",
    "os.environ[\"OPENAI_API_KEY\"] = st.secrets.openai.api_key\n",
    "\n",
    "documents = SimpleDirectoryReader(\n",
    "    input_files=files\n",
    ").load_data()\n",
    "\n",
    "text_splitter = SentenceSplitter()\n",
    "\n",
    "llm = OpenAI(model=\"gpt-3.5-turbo\", temperature=0)\n",
    "embed_model = OpenAIEmbedding(model=\"text-embedding-ada-002\")\n",
    "\n",
    "Settings.llm = llm\n",
    "Settings.embed_model = embed_model\n",
    "\n",
    "nodes = text_splitter.get_nodes_from_documents(documents)\n",
    "index = VectorStoreIndex(nodes)\n",
    "\n",
    "query_engine = index.as_query_engine(similarity_top_k=2)"
   ]
  },
  {
   "cell_type": "markdown",
   "metadata": {},
   "source": [
    "## 2.2 Generate RAGAS Dataset"
   ]
  },
  {
   "cell_type": "code",
   "execution_count": 34,
   "metadata": {},
   "outputs": [
    {
     "data": {
      "application/vnd.jupyter.widget-view+json": {
       "model_id": "4f1edf031f714392b52c28dff874117b",
       "version_major": 2,
       "version_minor": 0
      },
      "text/plain": [
       "  0%|          | 0/12 [00:00<?, ?it/s]"
      ]
     },
     "metadata": {},
     "output_type": "display_data"
    },
    {
     "data": {
      "text/html": [
       "<div>\n",
       "<style scoped>\n",
       "    .dataframe tbody tr th:only-of-type {\n",
       "        vertical-align: middle;\n",
       "    }\n",
       "\n",
       "    .dataframe tbody tr th {\n",
       "        vertical-align: top;\n",
       "    }\n",
       "\n",
       "    .dataframe thead th {\n",
       "        text-align: right;\n",
       "    }\n",
       "</style>\n",
       "<table border=\"1\" class=\"dataframe\">\n",
       "  <thead>\n",
       "    <tr style=\"text-align: right;\">\n",
       "      <th></th>\n",
       "      <th>question</th>\n",
       "      <th>answer</th>\n",
       "      <th>contexts</th>\n",
       "      <th>ground_truth</th>\n",
       "    </tr>\n",
       "  </thead>\n",
       "  <tbody>\n",
       "    <tr>\n",
       "      <th>0</th>\n",
       "      <td>Apakah pekerja berhak mendapatkan pelatihan?</td>\n",
       "      <td>Setiap tenaga kerja berhak untuk memperoleh da...</td>\n",
       "      <td>[(1) Tenaga kerja berhak memperoleh pengakuan ...</td>\n",
       "      <td>Setiap tenaga kerja berhak untuk mengembangkan...</td>\n",
       "    </tr>\n",
       "    <tr>\n",
       "      <th>1</th>\n",
       "      <td>Dalam pekerjaan dengan waktu tertentu, apabila...</td>\n",
       "      <td>Pihak yang mengakhiri hubungan kerja sebelum b...</td>\n",
       "      <td>[(5) Pengusaha yang bermaksud memperpanjang pe...</td>\n",
       "      <td>Apabila pemutusan hubungan kerja dilakukan sel...</td>\n",
       "    </tr>\n",
       "    <tr>\n",
       "      <th>2</th>\n",
       "      <td>Saya membutuhkan pekerja muda berusia 14 tahun...</td>\n",
       "      <td>Melanggar peraturan karena anak yang berusia 1...</td>\n",
       "      <td>[e. memberlakukan keselamatan dan kesehatan ke...</td>\n",
       "      <td>Meski anda memberi upah di atas upah minimum, ...</td>\n",
       "    </tr>\n",
       "    <tr>\n",
       "      <th>3</th>\n",
       "      <td>Sanksi atau denda apa yang dapat dikenakan pad...</td>\n",
       "      <td>Sanksi atau denda yang dapat dikenakan pada pe...</td>\n",
       "      <td>[Pekerja perempuan berhak memperoleh istirahat...</td>\n",
       "      <td>Pengusaha dilarang untuk memperkjakan perempua...</td>\n",
       "    </tr>\n",
       "    <tr>\n",
       "      <th>4</th>\n",
       "      <td>Dalam 1 minggu ini, saya telah melakukan kerja...</td>\n",
       "      <td>Pengusaha harus membayar upah kerja lembur kep...</td>\n",
       "      <td>[(4) Ketentuan mengenai waktu kerja pada sekto...</td>\n",
       "      <td>Apabila hanya diberi pizza, tanpa upah lembur,...</td>\n",
       "    </tr>\n",
       "  </tbody>\n",
       "</table>\n",
       "</div>"
      ],
      "text/plain": [
       "                                            question  \\\n",
       "0       Apakah pekerja berhak mendapatkan pelatihan?   \n",
       "1  Dalam pekerjaan dengan waktu tertentu, apabila...   \n",
       "2  Saya membutuhkan pekerja muda berusia 14 tahun...   \n",
       "3  Sanksi atau denda apa yang dapat dikenakan pad...   \n",
       "4  Dalam 1 minggu ini, saya telah melakukan kerja...   \n",
       "\n",
       "                                              answer  \\\n",
       "0  Setiap tenaga kerja berhak untuk memperoleh da...   \n",
       "1  Pihak yang mengakhiri hubungan kerja sebelum b...   \n",
       "2  Melanggar peraturan karena anak yang berusia 1...   \n",
       "3  Sanksi atau denda yang dapat dikenakan pada pe...   \n",
       "4  Pengusaha harus membayar upah kerja lembur kep...   \n",
       "\n",
       "                                            contexts  \\\n",
       "0  [(1) Tenaga kerja berhak memperoleh pengakuan ...   \n",
       "1  [(5) Pengusaha yang bermaksud memperpanjang pe...   \n",
       "2  [e. memberlakukan keselamatan dan kesehatan ke...   \n",
       "3  [Pekerja perempuan berhak memperoleh istirahat...   \n",
       "4  [(4) Ketentuan mengenai waktu kerja pada sekto...   \n",
       "\n",
       "                                        ground_truth  \n",
       "0  Setiap tenaga kerja berhak untuk mengembangkan...  \n",
       "1  Apabila pemutusan hubungan kerja dilakukan sel...  \n",
       "2  Meski anda memberi upah di atas upah minimum, ...  \n",
       "3  Pengusaha dilarang untuk memperkjakan perempua...  \n",
       "4  Apabila hanya diberi pizza, tanpa upah lembur,...  "
      ]
     },
     "execution_count": 34,
     "metadata": {},
     "output_type": "execute_result"
    }
   ],
   "source": [
    "def generate_base_response(query_engine, question):\n",
    "    response = query_engine.query(question)\n",
    "    return {\n",
    "        \"answer\": response.response,\n",
    "        \"contexts\": [c.node.get_content() for c in response.source_nodes],\n",
    "    }\n",
    "\n",
    "\n",
    "def generate_base_ragas_dataset(query_engine, questions, ground_truths):\n",
    "    responses = [generate_base_response(query_engine, q) for q in tqdm(questions)]\n",
    "\n",
    "    dataset_dict = {\n",
    "        \"question\": questions,\n",
    "        \"answer\": [response[\"answer\"] for response in responses],\n",
    "        \"contexts\": [response[\"contexts\"] for response in responses],\n",
    "        \"ground_truth\": ground_truths,\n",
    "    }\n",
    "    ds = Dataset.from_dict(dataset_dict)\n",
    "    return ds\n",
    "\n",
    "\n",
    "base_ragas_eval_dataset = generate_base_ragas_dataset(query_engine, questions, ground_truths)\n",
    "base_ragas_evals_df = pd.DataFrame(base_ragas_eval_dataset)\n",
    "base_ragas_evals_df.head()"
   ]
  },
  {
   "cell_type": "code",
   "execution_count": 35,
   "metadata": {},
   "outputs": [],
   "source": [
    "base_ragas_evals_df.head(12)\n",
    "base_ragas_evals_df.to_csv(\"base_solution.csv\")"
   ]
  },
  {
   "cell_type": "markdown",
   "metadata": {},
   "source": [
    "## 2.3 Evaluation Result"
   ]
  },
  {
   "cell_type": "code",
   "execution_count": 36,
   "metadata": {},
   "outputs": [
    {
     "data": {
      "application/vnd.jupyter.widget-view+json": {
       "model_id": "760cd25a432d4499a64a1830461049d3",
       "version_major": 2,
       "version_minor": 0
      },
      "text/plain": [
       "Evaluating:   0%|          | 0/48 [00:00<?, ?it/s]"
      ]
     },
     "metadata": {},
     "output_type": "display_data"
    }
   ],
   "source": [
    "base_evaluation_result = evaluate(\n",
    "    dataset=base_ragas_eval_dataset,\n",
    "    metrics=metrics,\n",
    ")\n",
    "base_eval_scores_df = pd.DataFrame(base_evaluation_result.scores)"
   ]
  },
  {
   "cell_type": "code",
   "execution_count": 37,
   "metadata": {},
   "outputs": [
    {
     "data": {
      "text/html": [
       "<div>\n",
       "<style scoped>\n",
       "    .dataframe tbody tr th:only-of-type {\n",
       "        vertical-align: middle;\n",
       "    }\n",
       "\n",
       "    .dataframe tbody tr th {\n",
       "        vertical-align: top;\n",
       "    }\n",
       "\n",
       "    .dataframe thead th {\n",
       "        text-align: right;\n",
       "    }\n",
       "</style>\n",
       "<table border=\"1\" class=\"dataframe\">\n",
       "  <thead>\n",
       "    <tr style=\"text-align: right;\">\n",
       "      <th></th>\n",
       "      <th>faithfulness</th>\n",
       "      <th>answer_relevancy</th>\n",
       "      <th>context_precision</th>\n",
       "      <th>context_recall</th>\n",
       "    </tr>\n",
       "  </thead>\n",
       "  <tbody>\n",
       "    <tr>\n",
       "      <th>0</th>\n",
       "      <td>1.00</td>\n",
       "      <td>0.910125</td>\n",
       "      <td>1.0</td>\n",
       "      <td>1.0</td>\n",
       "    </tr>\n",
       "    <tr>\n",
       "      <th>1</th>\n",
       "      <td>1.00</td>\n",
       "      <td>0.914240</td>\n",
       "      <td>1.0</td>\n",
       "      <td>1.0</td>\n",
       "    </tr>\n",
       "    <tr>\n",
       "      <th>2</th>\n",
       "      <td>1.00</td>\n",
       "      <td>0.867084</td>\n",
       "      <td>1.0</td>\n",
       "      <td>1.0</td>\n",
       "    </tr>\n",
       "    <tr>\n",
       "      <th>3</th>\n",
       "      <td>1.00</td>\n",
       "      <td>0.967009</td>\n",
       "      <td>1.0</td>\n",
       "      <td>1.0</td>\n",
       "    </tr>\n",
       "    <tr>\n",
       "      <th>4</th>\n",
       "      <td>0.25</td>\n",
       "      <td>0.870958</td>\n",
       "      <td>1.0</td>\n",
       "      <td>0.5</td>\n",
       "    </tr>\n",
       "    <tr>\n",
       "      <th>5</th>\n",
       "      <td>1.00</td>\n",
       "      <td>0.970747</td>\n",
       "      <td>1.0</td>\n",
       "      <td>1.0</td>\n",
       "    </tr>\n",
       "    <tr>\n",
       "      <th>6</th>\n",
       "      <td>1.00</td>\n",
       "      <td>0.966083</td>\n",
       "      <td>1.0</td>\n",
       "      <td>1.0</td>\n",
       "    </tr>\n",
       "    <tr>\n",
       "      <th>7</th>\n",
       "      <td>0.00</td>\n",
       "      <td>0.819824</td>\n",
       "      <td>1.0</td>\n",
       "      <td>1.0</td>\n",
       "    </tr>\n",
       "    <tr>\n",
       "      <th>8</th>\n",
       "      <td>1.00</td>\n",
       "      <td>0.976960</td>\n",
       "      <td>1.0</td>\n",
       "      <td>1.0</td>\n",
       "    </tr>\n",
       "    <tr>\n",
       "      <th>9</th>\n",
       "      <td>1.00</td>\n",
       "      <td>0.870339</td>\n",
       "      <td>1.0</td>\n",
       "      <td>1.0</td>\n",
       "    </tr>\n",
       "    <tr>\n",
       "      <th>10</th>\n",
       "      <td>1.00</td>\n",
       "      <td>0.925140</td>\n",
       "      <td>1.0</td>\n",
       "      <td>0.5</td>\n",
       "    </tr>\n",
       "    <tr>\n",
       "      <th>11</th>\n",
       "      <td>0.50</td>\n",
       "      <td>0.944312</td>\n",
       "      <td>0.5</td>\n",
       "      <td>1.0</td>\n",
       "    </tr>\n",
       "  </tbody>\n",
       "</table>\n",
       "</div>"
      ],
      "text/plain": [
       "    faithfulness  answer_relevancy  context_precision  context_recall\n",
       "0           1.00          0.910125                1.0             1.0\n",
       "1           1.00          0.914240                1.0             1.0\n",
       "2           1.00          0.867084                1.0             1.0\n",
       "3           1.00          0.967009                1.0             1.0\n",
       "4           0.25          0.870958                1.0             0.5\n",
       "5           1.00          0.970747                1.0             1.0\n",
       "6           1.00          0.966083                1.0             1.0\n",
       "7           0.00          0.819824                1.0             1.0\n",
       "8           1.00          0.976960                1.0             1.0\n",
       "9           1.00          0.870339                1.0             1.0\n",
       "10          1.00          0.925140                1.0             0.5\n",
       "11          0.50          0.944312                0.5             1.0"
      ]
     },
     "execution_count": 37,
     "metadata": {},
     "output_type": "execute_result"
    }
   ],
   "source": [
    "base_eval_scores_df.head(12)"
   ]
  },
  {
   "cell_type": "code",
   "execution_count": 38,
   "metadata": {},
   "outputs": [
    {
     "name": "stdout",
     "output_type": "stream",
     "text": [
      "{'faithfulness': 0.8125, 'answer_relevancy': 0.9169, 'context_precision': 0.9583, 'context_recall': 0.9167}\n"
     ]
    }
   ],
   "source": [
    "print(base_evaluation_result)"
   ]
  },
  {
   "cell_type": "code",
   "execution_count": 46,
   "metadata": {},
   "outputs": [
    {
     "data": {
      "text/plain": [
       "[Text(0, 0, '0.913889'),\n",
       " Text(0, 0, '0.897504'),\n",
       " Text(0, 0, '1'),\n",
       " Text(0, 0, '0.930556')]"
      ]
     },
     "execution_count": 46,
     "metadata": {},
     "output_type": "execute_result"
    },
    {
     "data": {
      "image/png": "[encoded data removed]",
      "text/plain": [
       "<Figure size 640x480 with 1 Axes>"
      ]
     },
     "metadata": {},
     "output_type": "display_data"
    }
   ],
   "source": [
    "plotPekerjaGPT = pd.DataFrame({\n",
    "  \"scores\": list(evaluation_result.values()),\n",
    "}, index=['faithfulness', 'answer_relevancy', 'context_precision', 'context_recall'])\n",
    "pkg = plotPekerjaGPT['scores'].plot(kind='bar')\n",
    "pkg.bar_label(pkg.containers[0])"
   ]
  },
  {
   "cell_type": "code",
   "execution_count": 45,
   "metadata": {},
   "outputs": [
    {
     "data": {
      "text/plain": [
       "[Text(0, 0, '0.8125'),\n",
       " Text(0, 0, '0.916902'),\n",
       " Text(0, 0, '0.958333'),\n",
       " Text(0, 0, '0.916667')]"
      ]
     },
     "execution_count": 45,
     "metadata": {},
     "output_type": "execute_result"
    },
    {
     "data": {
      "image/png": "[encoded data removed]",
      "text/plain": [
       "<Figure size 640x480 with 1 Axes>"
      ]
     },
     "metadata": {},
     "output_type": "display_data"
    }
   ],
   "source": [
    "plotBase = pd.DataFrame({\n",
    "  \"scores\": list(base_evaluation_result.values()),\n",
    "}, index=['faithfulness', 'answer_relevancy', 'context_precision', 'context_recall'])\n",
    "pb = plotBase['scores'].plot(kind='bar')\n",
    "pb.bar_label(pb.containers[0])"
   ]
  },
  {
   "cell_type": "code",
   "execution_count": 48,
   "metadata": {},
   "outputs": [
    {
     "data": {
      "image/png": "[encoded data removed]",
      "text/plain": [
       "<Figure size 640x480 with 1 Axes>"
      ]
     },
     "metadata": {},
     "output_type": "display_data"
    }
   ],
   "source": [
    "plotData = pd.DataFrame({\n",
    "  \"pekerjaGPT\": list(evaluation_result.values()),\n",
    "  \"base\": list(base_evaluation_result.values())\n",
    "}, index=['faithfulness', 'answer_relevancy', 'context_precision', 'context_recall'])\n",
    "pld = plotData[[\"pekerjaGPT\", \"base\"]].plot(kind='bar')"
   ]
  }
 ],
 "metadata": {
  "kernelspec": {
   "display_name": ".venv",
   "language": "python",
   "name": "python3"
  },
  "language_info": {
   "codemirror_mode": {
    "name": "ipython",
    "version": 3
   },
   "file_extension": ".py",
   "mimetype": "text/x-python",
   "name": "python",
   "nbconvert_exporter": "python",
   "pygments_lexer": "ipython3",
   "version": "3.10.14"
  }
 },
 "nbformat": 4,
 "nbformat_minor": 2
}
